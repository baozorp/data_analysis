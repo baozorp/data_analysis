{
 "cells": [
  {
   "cell_type": "code",
   "execution_count": 1,
   "metadata": {},
   "outputs": [
    {
     "name": "stderr",
     "output_type": "stream",
     "text": [
      "[nltk_data] Downloading package punkt to\n",
      "[nltk_data]     C:\\Users\\gigan\\AppData\\Roaming\\nltk_data...\n",
      "[nltk_data]   Package punkt is already up-to-date!\n"
     ]
    }
   ],
   "source": [
    "import pandas as pd\n",
    "from sklearn.model_selection import train_test_split\n",
    "\n",
    "\n",
    "import torch\n",
    "from torch.utils.data import Dataset, DataLoader\n",
    "from collections import Counter\n",
    "import nltk\n",
    "nltk.download('punkt')\n",
    "from nltk.tokenize import word_tokenize\n",
    "\n",
    "\n",
    "import torch.nn as nn\n",
    "import torch.optim as optim\n",
    "from tqdm import tqdm\n",
    "import matplotlib.pyplot as plt"
   ]
  },
  {
   "cell_type": "code",
   "execution_count": 2,
   "metadata": {},
   "outputs": [
    {
     "data": {
      "text/plain": [
       "device(type='cuda')"
      ]
     },
     "execution_count": 2,
     "metadata": {},
     "output_type": "execute_result"
    }
   ],
   "source": [
    "device = torch.device(\"cuda\" if torch.cuda.is_available() else \"cpu\")\n",
    "device"
   ]
  },
  {
   "cell_type": "code",
   "execution_count": 3,
   "metadata": {},
   "outputs": [],
   "source": [
    "train_url = \"https://github.com/mhjabreel/CharCnn_Keras/raw/master/data/ag_news_csv/train.csv\"\n",
    "test_url = \"https://github.com/mhjabreel/CharCnn_Keras/raw/master/data/ag_news_csv/test.csv\"\n",
    "\n",
    "train_df = pd.read_csv(train_url, names=[\"label\", \"title\", \"text\"])\n",
    "test_df = pd.read_csv(test_url, names=[\"label\", \"title\", \"text\"])\n",
    "\n",
    "X_train, X_val, y_train, y_val = train_test_split(train_df[\"title\"] + \" \" + train_df[\"text\"], train_df[\"label\"], test_size=0.2, random_state=42)\n",
    "X_test, y_test = test_df[\"title\"] + \" \" + test_df[\"text\"], test_df[\"label\"]"
   ]
  },
  {
   "cell_type": "code",
   "execution_count": 4,
   "metadata": {},
   "outputs": [
    {
     "data": {
      "text/html": [
       "<div>\n",
       "<style scoped>\n",
       "    .dataframe tbody tr th:only-of-type {\n",
       "        vertical-align: middle;\n",
       "    }\n",
       "\n",
       "    .dataframe tbody tr th {\n",
       "        vertical-align: top;\n",
       "    }\n",
       "\n",
       "    .dataframe thead th {\n",
       "        text-align: right;\n",
       "    }\n",
       "</style>\n",
       "<table border=\"1\" class=\"dataframe\">\n",
       "  <thead>\n",
       "    <tr style=\"text-align: right;\">\n",
       "      <th></th>\n",
       "      <th>label</th>\n",
       "      <th>title</th>\n",
       "      <th>text</th>\n",
       "    </tr>\n",
       "  </thead>\n",
       "  <tbody>\n",
       "    <tr>\n",
       "      <th>0</th>\n",
       "      <td>3</td>\n",
       "      <td>Wall St. Bears Claw Back Into the Black (Reuters)</td>\n",
       "      <td>Reuters - Short-sellers, Wall Street's dwindli...</td>\n",
       "    </tr>\n",
       "    <tr>\n",
       "      <th>1</th>\n",
       "      <td>3</td>\n",
       "      <td>Carlyle Looks Toward Commercial Aerospace (Reu...</td>\n",
       "      <td>Reuters - Private investment firm Carlyle Grou...</td>\n",
       "    </tr>\n",
       "    <tr>\n",
       "      <th>2</th>\n",
       "      <td>3</td>\n",
       "      <td>Oil and Economy Cloud Stocks' Outlook (Reuters)</td>\n",
       "      <td>Reuters - Soaring crude prices plus worries\\ab...</td>\n",
       "    </tr>\n",
       "    <tr>\n",
       "      <th>3</th>\n",
       "      <td>3</td>\n",
       "      <td>Iraq Halts Oil Exports from Main Southern Pipe...</td>\n",
       "      <td>Reuters - Authorities have halted oil export\\f...</td>\n",
       "    </tr>\n",
       "    <tr>\n",
       "      <th>4</th>\n",
       "      <td>3</td>\n",
       "      <td>Oil prices soar to all-time record, posing new...</td>\n",
       "      <td>AFP - Tearaway world oil prices, toppling reco...</td>\n",
       "    </tr>\n",
       "    <tr>\n",
       "      <th>...</th>\n",
       "      <td>...</td>\n",
       "      <td>...</td>\n",
       "      <td>...</td>\n",
       "    </tr>\n",
       "    <tr>\n",
       "      <th>119995</th>\n",
       "      <td>1</td>\n",
       "      <td>Pakistan's Musharraf Says Won't Quit as Army C...</td>\n",
       "      <td>KARACHI (Reuters) - Pakistani President Perve...</td>\n",
       "    </tr>\n",
       "    <tr>\n",
       "      <th>119996</th>\n",
       "      <td>2</td>\n",
       "      <td>Renteria signing a top-shelf deal</td>\n",
       "      <td>Red Sox general manager Theo Epstein acknowled...</td>\n",
       "    </tr>\n",
       "    <tr>\n",
       "      <th>119997</th>\n",
       "      <td>2</td>\n",
       "      <td>Saban not going to Dolphins yet</td>\n",
       "      <td>The Miami Dolphins will put their courtship of...</td>\n",
       "    </tr>\n",
       "    <tr>\n",
       "      <th>119998</th>\n",
       "      <td>2</td>\n",
       "      <td>Today's NFL games</td>\n",
       "      <td>PITTSBURGH at NY GIANTS Time: 1:30 p.m. Line: ...</td>\n",
       "    </tr>\n",
       "    <tr>\n",
       "      <th>119999</th>\n",
       "      <td>2</td>\n",
       "      <td>Nets get Carter from Raptors</td>\n",
       "      <td>INDIANAPOLIS -- All-Star Vince Carter was trad...</td>\n",
       "    </tr>\n",
       "  </tbody>\n",
       "</table>\n",
       "<p>120000 rows × 3 columns</p>\n",
       "</div>"
      ],
      "text/plain": [
       "        label                                              title  \\\n",
       "0           3  Wall St. Bears Claw Back Into the Black (Reuters)   \n",
       "1           3  Carlyle Looks Toward Commercial Aerospace (Reu...   \n",
       "2           3    Oil and Economy Cloud Stocks' Outlook (Reuters)   \n",
       "3           3  Iraq Halts Oil Exports from Main Southern Pipe...   \n",
       "4           3  Oil prices soar to all-time record, posing new...   \n",
       "...       ...                                                ...   \n",
       "119995      1  Pakistan's Musharraf Says Won't Quit as Army C...   \n",
       "119996      2                  Renteria signing a top-shelf deal   \n",
       "119997      2                    Saban not going to Dolphins yet   \n",
       "119998      2                                  Today's NFL games   \n",
       "119999      2                       Nets get Carter from Raptors   \n",
       "\n",
       "                                                     text  \n",
       "0       Reuters - Short-sellers, Wall Street's dwindli...  \n",
       "1       Reuters - Private investment firm Carlyle Grou...  \n",
       "2       Reuters - Soaring crude prices plus worries\\ab...  \n",
       "3       Reuters - Authorities have halted oil export\\f...  \n",
       "4       AFP - Tearaway world oil prices, toppling reco...  \n",
       "...                                                   ...  \n",
       "119995   KARACHI (Reuters) - Pakistani President Perve...  \n",
       "119996  Red Sox general manager Theo Epstein acknowled...  \n",
       "119997  The Miami Dolphins will put their courtship of...  \n",
       "119998  PITTSBURGH at NY GIANTS Time: 1:30 p.m. Line: ...  \n",
       "119999  INDIANAPOLIS -- All-Star Vince Carter was trad...  \n",
       "\n",
       "[120000 rows x 3 columns]"
      ]
     },
     "execution_count": 4,
     "metadata": {},
     "output_type": "execute_result"
    }
   ],
   "source": [
    "train_df"
   ]
  },
  {
   "cell_type": "code",
   "execution_count": 5,
   "metadata": {},
   "outputs": [],
   "source": [
    "def tokenize(text):\n",
    "    return word_tokenize(text.lower())\n",
    "\n",
    "all_text = \" \".join(X_train)\n",
    "tokens = tokenize(all_text)\n",
    "vocab = Counter(tokens)\n",
    "vocab_size = len(vocab) + 2 \n",
    "word2idx = {word: idx + 2 for idx, (word, _) in enumerate(vocab.most_common())}\n",
    "word2idx['<PAD>'] = 0\n",
    "word2idx['<UNK>'] = 1\n",
    "idx2word = {idx: word for word, idx in word2idx.items()}\n",
    "\n",
    "def text_to_indices(text):\n",
    "    return [word2idx.get(word, word2idx['<UNK>']) for word in tokenize(text)]"
   ]
  },
  {
   "cell_type": "code",
   "execution_count": 6,
   "metadata": {},
   "outputs": [
    {
     "name": "stdout",
     "output_type": "stream",
     "text": [
      "Текст: BBC set for major shake-up, claims newspaper London - The British Broadcasting Corporation, the world #39;s biggest public broadcaster, is to cut almost a quarter of its 28 000-strong workforce, in the biggest shake-up in its 82-year history, The Times newspaper in London said on Monday.\n",
      "Токены: [2649, 169, 12, 210, 7964, 3, 583, 1342, 240, 17, 2, 197, 5299, 1829, 3, 2, 60, 13, 14, 9, 18, 367, 383, 7613, 3, 25, 5, 282, 681, 6, 267, 7, 26, 1621, 1, 4181, 3, 8, 2, 367, 7964, 8, 26, 59567, 595, 3, 2, 607, 1342, 8, 240, 31, 11, 64, 4]\n",
      "Слова: ['bbc', 'set', 'for', 'major', 'shake-up', ',', 'claims', 'newspaper', 'london', '-', 'the', 'british', 'broadcasting', 'corporation', ',', 'the', 'world', '#', '39', ';', 's', 'biggest', 'public', 'broadcaster', ',', 'is', 'to', 'cut', 'almost', 'a', 'quarter', 'of', 'its', '28', '<UNK>', 'workforce', ',', 'in', 'the', 'biggest', 'shake-up', 'in', 'its', '82-year', 'history', ',', 'the', 'times', 'newspaper', 'in', 'london', 'said', 'on', 'monday', '.']\n"
     ]
    }
   ],
   "source": [
    "example_text = X_val.iloc[0] \n",
    "print(\"Текст:\", example_text)\n",
    "\n",
    "example_indices = text_to_indices(example_text)\n",
    "print(\"Токены:\", example_indices)\n",
    "\n",
    "example_words = [idx2word.get(idx, '<UNK>') for idx in example_indices]\n",
    "print(\"Слова:\", example_words)"
   ]
  },
  {
   "cell_type": "code",
   "execution_count": 7,
   "metadata": {},
   "outputs": [],
   "source": [
    "class TextDataset(Dataset):\n",
    "    def __init__(self, texts, labels, max_len=50):\n",
    "        self.texts = texts\n",
    "        self.labels = labels\n",
    "        self.max_len = max_len\n",
    "\n",
    "    def __len__(self):\n",
    "        return len(self.texts)\n",
    "\n",
    "    def __getitem__(self, idx):\n",
    "        text = self.texts.iloc[idx]\n",
    "        label = self.labels.iloc[idx] - 1  \n",
    "        text_indices = text_to_indices(text)\n",
    "        text_indices = text_indices[:self.max_len] + [0] * (self.max_len - len(text_indices)) \n",
    "        return torch.tensor(text_indices).to(device), torch.tensor(label).to(device)\n",
    "\n",
    "\n",
    "train_dataset = TextDataset(X_train, y_train)\n",
    "val_dataset = TextDataset(X_val, y_val)\n",
    "test_dataset = TextDataset(X_test, y_test)\n",
    "\n",
    "train_loader = DataLoader(train_dataset, batch_size=64, shuffle=True)\n",
    "val_loader = DataLoader(val_dataset, batch_size=64)\n",
    "test_loader = DataLoader(test_dataset, batch_size=64)"
   ]
  },
  {
   "cell_type": "code",
   "execution_count": 8,
   "metadata": {},
   "outputs": [
    {
     "name": "stdout",
     "output_type": "stream",
     "text": [
      "Токены: tensor([ 6972,   231,  1472,  1312,     2,   120,    93,   100,    68,    45,\n",
      "          679,    23,     6,   632,   110,    12, 18567,  1160,    20,   848,\n",
      "        24108, 34002, 20770,    28,    35,   648,  5751,     4,     0,     0,\n",
      "            0,     0,     0,     0,     0,     0,     0,     0,     0,     0,\n",
      "            0,     0,     0,     0,     0,     0,     0,     0,     0,     0],\n",
      "       device='cuda:0')\n",
      "Текст: cavs get needed rest the off week could not have come at a better time for 13th-ranked virginia with quarterback marques hagans hobbled by an injured hip .\n",
      "Метка: 1\n"
     ]
    }
   ],
   "source": [
    "for texts, labels in train_loader:\n",
    "    words = [idx2word[idx.item()] for idx in texts[0] if idx.item() != word2idx['<PAD>']]  \n",
    "    reconstructed_text = \" \".join(words)\n",
    "    \n",
    "    print(\"Токены:\", texts[0])  \n",
    "    print(\"Текст:\", reconstructed_text)\n",
    "    print(\"Метка:\", labels[0].item())\n",
    "    break  "
   ]
  },
  {
   "cell_type": "code",
   "execution_count": 9,
   "metadata": {},
   "outputs": [],
   "source": [
    "class GRUModel(nn.Module):\n",
    "    def __init__(self, vocab_size, embed_size, hidden_size, output_size):\n",
    "        super(GRUModel, self).__init__()\n",
    "        self.embedding = nn.Embedding(vocab_size, embed_size)\n",
    "        self.gru = nn.GRU(embed_size, hidden_size, batch_first=True)\n",
    "        self.fc = nn.Linear(hidden_size, output_size)\n",
    "\n",
    "    def forward(self, x):\n",
    "        embedded = self.embedding(x)\n",
    "        _, hidden = self.gru(embedded)\n",
    "        output = self.fc(hidden[-1]) \n",
    "        return output"
   ]
  },
  {
   "cell_type": "code",
   "execution_count": 10,
   "metadata": {},
   "outputs": [],
   "source": [
    "class LSTMModel(nn.Module):\n",
    "    def __init__(self, vocab_size, embed_size, hidden_size, output_size):\n",
    "        super(LSTMModel, self).__init__()\n",
    "        self.embedding = nn.Embedding(vocab_size, embed_size)\n",
    "        self.lstm = nn.LSTM(embed_size, hidden_size, batch_first=True)\n",
    "        self.fc = nn.Linear(hidden_size, output_size)\n",
    "\n",
    "    def forward(self, x):\n",
    "        embedded = self.embedding(x)\n",
    "        _, (hidden, _) = self.lstm(embedded)\n",
    "        output = self.fc(hidden[-1])  \n",
    "        return output"
   ]
  },
  {
   "cell_type": "code",
   "execution_count": 11,
   "metadata": {},
   "outputs": [],
   "source": [
    "import torch\n",
    "import torch.nn as nn\n",
    "import torch.nn.functional as F\n",
    "\n",
    "class CNNModel(nn.Module):\n",
    "    def __init__(self, vocab_size, embed_size, output_size, num_filters=100):\n",
    "        super(CNNModel, self).__init__()\n",
    "        self.embedding = nn.Embedding(vocab_size, embed_size)\n",
    "        \n",
    "        self.conv1 = nn.Conv1d(in_channels=embed_size, out_channels=num_filters, kernel_size=3)\n",
    "        self.conv2 = nn.Conv1d(in_channels=embed_size, out_channels=num_filters, kernel_size=4)\n",
    "        self.conv3 = nn.Conv1d(in_channels=embed_size, out_channels=num_filters, kernel_size=5)\n",
    "        \n",
    "        self.fc = nn.Linear(num_filters * 3, output_size)\n",
    "\n",
    "    def forward(self, x):\n",
    "        embedded = self.embedding(x).permute(0, 2, 1)  \n",
    "        \n",
    "        conv1_out = F.relu(self.conv1(embedded))\n",
    "        conv2_out = F.relu(self.conv2(embedded))\n",
    "        conv3_out = F.relu(self.conv3(embedded))\n",
    "\n",
    "        conv1_out = F.max_pool1d(conv1_out, conv1_out.size(2)).squeeze(2)  \n",
    "        conv2_out = F.max_pool1d(conv2_out, conv2_out.size(2)).squeeze(2)\n",
    "        conv3_out = F.max_pool1d(conv3_out, conv3_out.size(2)).squeeze(2)\n",
    "\n",
    "        combined = torch.cat((conv1_out, conv2_out, conv3_out), 1)\n",
    "        output = self.fc(combined)\n",
    "        \n",
    "        return output\n"
   ]
  },
  {
   "cell_type": "code",
   "execution_count": 12,
   "metadata": {},
   "outputs": [],
   "source": [
    "embed_size = 100\n",
    "hidden_size = 128\n",
    "output_size = 4 \n",
    "\n",
    "models = {\n",
    "    \"GRU\": GRUModel(vocab_size, embed_size, hidden_size, output_size).to(device),\n",
    "    \"LSTM\": LSTMModel(vocab_size, embed_size, hidden_size, output_size).to(device),\n",
    "    \"CNN\": CNNModel(vocab_size, embed_size, output_size).to(device)\n",
    "}"
   ]
  },
  {
   "cell_type": "code",
   "execution_count": 13,
   "metadata": {},
   "outputs": [],
   "source": [
    "def train_model(model, train_loader, val_loader, optimizer, criterion, epochs=5):\n",
    "    train_loss_history = []\n",
    "    train_acc_history = []\n",
    "    val_loss_history = []\n",
    "    val_acc_history = []\n",
    "\n",
    "    for epoch in range(epochs):\n",
    "        model.train()\n",
    "        total_loss, correct_predictions, total_predictions = 0, 0, 0\n",
    "\n",
    "        with tqdm(train_loader, desc=f\"Training Epoch {epoch + 1}/{epochs}\", unit=\"batch\") as tepoch:\n",
    "            for texts, labels in tepoch:\n",
    "                optimizer.zero_grad()\n",
    "                outputs = model(texts)\n",
    "                loss = criterion(outputs, labels)\n",
    "                loss.backward()\n",
    "                optimizer.step()\n",
    "\n",
    "                total_loss += loss.item()\n",
    "                _, predicted = torch.max(outputs, 1)\n",
    "                correct_predictions += (predicted == labels).sum().item()\n",
    "                total_predictions += labels.size(0)\n",
    "\n",
    "                tepoch.set_postfix(\n",
    "                    loss=total_loss / len(tepoch),\n",
    "                    accuracy=correct_predictions / total_predictions\n",
    "                )\n",
    "\n",
    "        train_loss_history.append(total_loss / len(train_loader))\n",
    "        train_acc_history.append(correct_predictions / total_predictions)\n",
    "\n",
    "        model.eval()\n",
    "        val_loss, val_correct_predictions, val_total_predictions = 0, 0, 0\n",
    "\n",
    "        with tqdm(val_loader, desc=f\"Evaluting Epoch {epoch + 1}/{epochs}\", unit=\"batch\") as tepoch:\n",
    "            with torch.no_grad():\n",
    "                for texts, labels in tepoch:\n",
    "                    outputs = model(texts)\n",
    "                    loss = criterion(outputs, labels)\n",
    "\n",
    "                    val_loss += loss.item()\n",
    "                    _, predicted = torch.max(outputs, 1)\n",
    "                    val_correct_predictions += (predicted == labels).sum().item()\n",
    "                    val_total_predictions += labels.size(0)\n",
    "\n",
    "                    tepoch.set_postfix(\n",
    "                        val_loss=val_loss / len(tepoch),\n",
    "                        val_accuracy=val_correct_predictions / val_total_predictions\n",
    "                    )\n",
    "\n",
    "        val_loss_history.append(val_loss / len(val_loader))\n",
    "        val_acc_history.append(val_correct_predictions / val_total_predictions)\n",
    "\n",
    "    return train_loss_history, train_acc_history, val_loss_history, val_acc_history\n",
    "\n",
    "def evaluate_model(model, test_loader):\n",
    "    model.eval()\n",
    "    correct_predictions = 0\n",
    "    total_predictions = 0\n",
    "\n",
    "    with torch.no_grad():\n",
    "        for texts, labels in test_loader:\n",
    "            outputs = model(texts)\n",
    "            _, predicted = torch.max(outputs, 1)\n",
    "            correct_predictions += (predicted == labels).sum().item()\n",
    "            total_predictions += labels.size(0)\n",
    "\n",
    "    accuracy = correct_predictions / total_predictions\n",
    "    return accuracy"
   ]
  },
  {
   "cell_type": "code",
   "execution_count": 14,
   "metadata": {},
   "outputs": [
    {
     "name": "stdout",
     "output_type": "stream",
     "text": [
      "GRU\n"
     ]
    },
    {
     "name": "stderr",
     "output_type": "stream",
     "text": [
      "Training Epoch 1/10: 100%|██████████| 1500/1500 [00:59<00:00, 25.33batch/s, accuracy=0.758, loss=0.587]\n",
      "Evaluting Epoch 1/10: 100%|██████████| 375/375 [00:13<00:00, 28.49batch/s, val_accuracy=0.887, val_loss=0.328] \n",
      "Training Epoch 2/10: 100%|██████████| 1500/1500 [01:17<00:00, 19.25batch/s, accuracy=0.914, loss=0.253]\n",
      "Evaluting Epoch 2/10: 100%|██████████| 375/375 [00:11<00:00, 32.83batch/s, val_accuracy=0.904, val_loss=0.29]  \n",
      "Training Epoch 3/10: 100%|██████████| 1500/1500 [00:52<00:00, 28.38batch/s, accuracy=0.94, loss=0.177] \n",
      "Evaluting Epoch 3/10: 100%|██████████| 375/375 [00:14<00:00, 26.71batch/s, val_accuracy=0.906, val_loss=0.275] \n",
      "Training Epoch 4/10: 100%|██████████| 1500/1500 [00:52<00:00, 28.81batch/s, accuracy=0.96, loss=0.122]  \n",
      "Evaluting Epoch 4/10: 100%|██████████| 375/375 [00:10<00:00, 37.05batch/s, val_accuracy=0.906, val_loss=0.291] \n",
      "Training Epoch 5/10: 100%|██████████| 1500/1500 [00:53<00:00, 28.09batch/s, accuracy=0.973, loss=0.0817]\n",
      "Evaluting Epoch 5/10: 100%|██████████| 375/375 [00:09<00:00, 38.17batch/s, val_accuracy=0.908, val_loss=0.323] \n",
      "Training Epoch 6/10: 100%|██████████| 1500/1500 [00:52<00:00, 28.56batch/s, accuracy=0.983, loss=0.0532]\n",
      "Evaluting Epoch 6/10: 100%|██████████| 375/375 [00:09<00:00, 38.50batch/s, val_accuracy=0.903, val_loss=0.384]\n",
      "Training Epoch 7/10: 100%|██████████| 1500/1500 [00:52<00:00, 28.63batch/s, accuracy=0.989, loss=0.0354]\n",
      "Evaluting Epoch 7/10: 100%|██████████| 375/375 [00:09<00:00, 37.57batch/s, val_accuracy=0.903, val_loss=0.419]\n",
      "Training Epoch 8/10: 100%|██████████| 1500/1500 [00:56<00:00, 26.77batch/s, accuracy=0.992, loss=0.0246]\n",
      "Evaluting Epoch 8/10: 100%|██████████| 375/375 [00:09<00:00, 38.25batch/s, val_accuracy=0.901, val_loss=0.462]\n",
      "Training Epoch 9/10: 100%|██████████| 1500/1500 [00:53<00:00, 28.17batch/s, accuracy=0.994, loss=0.0189] \n",
      "Evaluting Epoch 9/10: 100%|██████████| 375/375 [00:10<00:00, 36.57batch/s, val_accuracy=0.899, val_loss=0.499]\n",
      "Training Epoch 10/10: 100%|██████████| 1500/1500 [00:53<00:00, 28.14batch/s, accuracy=0.995, loss=0.0153] \n",
      "Evaluting Epoch 10/10: 100%|██████████| 375/375 [00:09<00:00, 37.89batch/s, val_accuracy=0.904, val_loss=0.539]\n"
     ]
    },
    {
     "name": "stdout",
     "output_type": "stream",
     "text": [
      "Test Accuracy for GRU: 0.9001\n",
      "LSTM\n"
     ]
    },
    {
     "name": "stderr",
     "output_type": "stream",
     "text": [
      "Training Epoch 1/10: 100%|██████████| 1500/1500 [00:56<00:00, 26.48batch/s, accuracy=0.705, loss=0.699]\n",
      "Evaluting Epoch 1/10: 100%|██████████| 375/375 [00:14<00:00, 25.33batch/s, val_accuracy=0.867, val_loss=0.385]\n",
      "Training Epoch 2/10: 100%|██████████| 1500/1500 [00:55<00:00, 26.98batch/s, accuracy=0.898, loss=0.3]  \n",
      "Evaluting Epoch 2/10: 100%|██████████| 375/375 [00:13<00:00, 27.60batch/s, val_accuracy=0.893, val_loss=0.316] \n",
      "Training Epoch 3/10: 100%|██████████| 1500/1500 [00:53<00:00, 28.26batch/s, accuracy=0.928, loss=0.217]\n",
      "Evaluting Epoch 3/10: 100%|██████████| 375/375 [00:13<00:00, 27.24batch/s, val_accuracy=0.902, val_loss=0.296] \n",
      "Training Epoch 4/10: 100%|██████████| 1500/1500 [00:53<00:00, 28.28batch/s, accuracy=0.946, loss=0.163] \n",
      "Evaluting Epoch 4/10: 100%|██████████| 375/375 [00:13<00:00, 27.27batch/s, val_accuracy=0.906, val_loss=0.288] \n",
      "Training Epoch 5/10: 100%|██████████| 1500/1500 [00:53<00:00, 28.21batch/s, accuracy=0.96, loss=0.123]  \n",
      "Evaluting Epoch 5/10: 100%|██████████| 375/375 [00:13<00:00, 28.62batch/s, val_accuracy=0.904, val_loss=0.321] \n",
      "Training Epoch 6/10: 100%|██████████| 1500/1500 [00:53<00:00, 28.09batch/s, accuracy=0.971, loss=0.0891]\n",
      "Evaluting Epoch 6/10: 100%|██████████| 375/375 [00:13<00:00, 26.95batch/s, val_accuracy=0.907, val_loss=0.325] \n",
      "Training Epoch 7/10: 100%|██████████| 1500/1500 [00:53<00:00, 28.12batch/s, accuracy=0.98, loss=0.0631] \n",
      "Evaluting Epoch 7/10: 100%|██████████| 375/375 [00:12<00:00, 29.64batch/s, val_accuracy=0.904, val_loss=0.352] \n",
      "Training Epoch 8/10: 100%|██████████| 1500/1500 [00:53<00:00, 28.00batch/s, accuracy=0.985, loss=0.0454]\n",
      "Evaluting Epoch 8/10: 100%|██████████| 375/375 [00:13<00:00, 27.22batch/s, val_accuracy=0.906, val_loss=0.391]\n",
      "Training Epoch 9/10: 100%|██████████| 1500/1500 [00:59<00:00, 25.20batch/s, accuracy=0.989, loss=0.0335]\n",
      "Evaluting Epoch 9/10: 100%|██████████| 375/375 [00:13<00:00, 28.76batch/s, val_accuracy=0.903, val_loss=0.441]\n",
      "Training Epoch 10/10: 100%|██████████| 1500/1500 [00:53<00:00, 28.16batch/s, accuracy=0.992, loss=0.0256]\n",
      "Evaluting Epoch 10/10: 100%|██████████| 375/375 [00:13<00:00, 28.82batch/s, val_accuracy=0.9, val_loss=0.486]  \n"
     ]
    },
    {
     "name": "stdout",
     "output_type": "stream",
     "text": [
      "Test Accuracy for LSTM: 0.8983\n",
      "CNN\n"
     ]
    },
    {
     "name": "stderr",
     "output_type": "stream",
     "text": [
      "Training Epoch 1/10: 100%|██████████| 1500/1500 [00:52<00:00, 28.66batch/s, accuracy=0.821, loss=0.496]\n",
      "Evaluting Epoch 1/10: 100%|██████████| 375/375 [00:09<00:00, 39.45batch/s, val_accuracy=0.879, val_loss=0.354] \n",
      "Training Epoch 2/10: 100%|██████████| 1500/1500 [00:51<00:00, 28.87batch/s, accuracy=0.923, loss=0.228]\n",
      "Evaluting Epoch 2/10: 100%|██████████| 375/375 [00:09<00:00, 38.24batch/s, val_accuracy=0.889, val_loss=0.327] \n",
      "Training Epoch 3/10: 100%|██████████| 1500/1500 [00:52<00:00, 28.52batch/s, accuracy=0.962, loss=0.118] \n",
      "Evaluting Epoch 3/10: 100%|██████████| 375/375 [00:09<00:00, 39.23batch/s, val_accuracy=0.896, val_loss=0.33]  \n",
      "Training Epoch 4/10: 100%|██████████| 1500/1500 [00:56<00:00, 26.62batch/s, accuracy=0.982, loss=0.059] \n",
      "Evaluting Epoch 4/10: 100%|██████████| 375/375 [00:12<00:00, 29.13batch/s, val_accuracy=0.889, val_loss=0.412]\n",
      "Training Epoch 5/10: 100%|██████████| 1500/1500 [00:51<00:00, 28.99batch/s, accuracy=0.989, loss=0.0408]\n",
      "Evaluting Epoch 5/10: 100%|██████████| 375/375 [00:09<00:00, 37.95batch/s, val_accuracy=0.897, val_loss=0.441]\n",
      "Training Epoch 6/10: 100%|██████████| 1500/1500 [00:52<00:00, 28.35batch/s, accuracy=0.992, loss=0.0335]\n",
      "Evaluting Epoch 6/10: 100%|██████████| 375/375 [00:09<00:00, 39.19batch/s, val_accuracy=0.898, val_loss=0.451]\n",
      "Training Epoch 7/10: 100%|██████████| 1500/1500 [00:51<00:00, 29.13batch/s, accuracy=0.993, loss=0.0304] \n",
      "Evaluting Epoch 7/10: 100%|██████████| 375/375 [00:09<00:00, 39.16batch/s, val_accuracy=0.898, val_loss=0.49] \n",
      "Training Epoch 8/10: 100%|██████████| 1500/1500 [00:51<00:00, 28.92batch/s, accuracy=0.994, loss=0.0278]\n",
      "Evaluting Epoch 8/10: 100%|██████████| 375/375 [00:11<00:00, 32.48batch/s, val_accuracy=0.899, val_loss=0.517]\n",
      "Training Epoch 9/10: 100%|██████████| 1500/1500 [00:51<00:00, 28.89batch/s, accuracy=0.994, loss=0.0251]\n",
      "Evaluting Epoch 9/10: 100%|██████████| 375/375 [00:09<00:00, 39.17batch/s, val_accuracy=0.892, val_loss=0.597]\n",
      "Training Epoch 10/10: 100%|██████████| 1500/1500 [00:52<00:00, 28.63batch/s, accuracy=0.995, loss=0.0238]\n",
      "Evaluting Epoch 10/10: 100%|██████████| 375/375 [00:09<00:00, 37.91batch/s, val_accuracy=0.895, val_loss=0.604]\n"
     ]
    },
    {
     "name": "stdout",
     "output_type": "stream",
     "text": [
      "Test Accuracy for CNN: 0.8928\n"
     ]
    }
   ],
   "source": [
    "histories = {}\n",
    "test_accuracies = {}\n",
    "\n",
    "for model_name, model in models.items():\n",
    "    print(model_name)\n",
    "    optimizer = optim.Adam(model.parameters(), lr=0.001)\n",
    "    criterion = nn.CrossEntropyLoss()\n",
    "    train_loss, train_acc, val_loss, val_acc = train_model(model, train_loader, val_loader, optimizer, criterion, epochs=10)\n",
    "    histories[model_name] = {\n",
    "        \"train_loss\": train_loss,\n",
    "        \"train_acc\": train_acc,\n",
    "        \"val_loss\": val_loss,\n",
    "        \"val_acc\": val_acc\n",
    "    }\n",
    "    test_accuracy = evaluate_model(model, test_loader)\n",
    "    test_accuracies[model_name] = test_accuracy\n",
    "    print(f\"Test Accuracy for {model_name}: {test_accuracy:.4f}\")"
   ]
  },
  {
   "cell_type": "code",
   "execution_count": 15,
   "metadata": {},
   "outputs": [
    {
     "data": {
      "image/png": "[encoded data removed]",
      "text/plain": [
       "<Figure size 1400x500 with 2 Axes>"
      ]
     },
     "metadata": {},
     "output_type": "display_data"
    }
   ],
   "source": [
    "fig, (ax1, ax2) = plt.subplots(1, 2, figsize=(14, 5))\n",
    "\n",
    "for model_name, history in histories.items():\n",
    "    #ax1.plot(history[\"train_loss\"], label=f'{model_name} Train Loss')\n",
    "    ax1.plot(history[\"val_loss\"], label=f'{model_name} Val Loss')\n",
    "ax1.set_title(\"Loss over Epochs\")\n",
    "ax1.set_xlabel(\"Epoch\")\n",
    "ax1.set_ylabel(\"Loss\")\n",
    "ax1.legend()\n",
    "\n",
    "for model_name, history in histories.items():\n",
    "    #ax2.plot(history[\"train_acc\"], label=f'{model_name} Train Accuracy')\n",
    "    ax2.plot(history[\"val_acc\"], label=f'{model_name} Val Accuracy')\n",
    "ax2.set_title(\"Accuracy over Epochs\")\n",
    "ax2.set_xlabel(\"Epoch\")\n",
    "ax2.set_ylabel(\"Accuracy\")\n",
    "ax2.legend()\n",
    "\n",
    "plt.show()"
   ]
  },
  {
   "cell_type": "code",
   "execution_count": null,
   "metadata": {},
   "outputs": [],
   "source": []
  },
  {
   "cell_type": "code",
   "execution_count": null,
   "metadata": {},
   "outputs": [],
   "source": []
  },
  {
   "cell_type": "code",
   "execution_count": null,
   "metadata": {},
   "outputs": [],
   "source": []
  },
  {
   "cell_type": "code",
   "execution_count": null,
   "metadata": {},
   "outputs": [],
   "source": []
  },
  {
   "cell_type": "code",
   "execution_count": null,
   "metadata": {},
   "outputs": [],
   "source": []
  },
  {
   "cell_type": "code",
   "execution_count": null,
   "metadata": {},
   "outputs": [],
   "source": []
  }
 ],
 "metadata": {
  "kernelspec": {
   "display_name": "Python 3",
   "language": "python",
   "name": "python3"
  },
  "language_info": {
   "codemirror_mode": {
    "name": "ipython",
    "version": 3
   },
   "file_extension": ".py",
   "mimetype": "text/x-python",
   "name": "python",
   "nbconvert_exporter": "python",
   "pygments_lexer": "ipython3",
   "version": "3.12.2"
  }
 },
 "nbformat": 4,
 "nbformat_minor": 2
}
