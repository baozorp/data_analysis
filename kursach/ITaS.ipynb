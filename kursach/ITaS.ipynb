{
 "cells": [
  {
   "cell_type": "code",
   "execution_count": 2,
   "metadata": {},
   "outputs": [],
   "source": [
    "import random\n",
    "import shutil\n",
    "import torch\n",
    "import yaml\n",
    "import os\n",
    "\n",
    "from pathlib import Path\n",
    "\n",
    "from ultralytics import YOLO\n",
    "\n",
    "from sklearn.model_selection import train_test_split"
   ]
  },
  {
   "cell_type": "code",
   "execution_count": 136,
   "metadata": {},
   "outputs": [],
   "source": [
    "def create_yaml(output_yaml_path, train_image_dir, val_image_dir, test_image_dir=' ', nc=11):\n",
    "    # проба - соединить все классы в одну сетку !!!!!!!!!!\n",
    "    names = ['heart', 'lungs', 'trachea', 'bronchitis', 'pneumonia/bronchopneumonia', 'pulmonary edema', \n",
    "             'hydrothorax', 'pneumothorax', 'tracheal collapse', 'neoplasm', 'atelectasis']\n",
    "    \n",
    "    yaml_data = {\n",
    "        'names': names,\n",
    "        'nc': nc,\n",
    "        'train': train_image_dir,\n",
    "        'val': val_image_dir,\n",
    "        'test': test_image_dir\n",
    "    }\n",
    "\n",
    "    with open(output_yaml_path, 'w') as j:\n",
    "        yaml.dump(yaml_data, j, default_flow_style=False)"
   ]
  },
  {
   "cell_type": "code",
   "execution_count": null,
   "metadata": {},
   "outputs": [],
   "source": [
    "def get_random_subset_from_two_datasets(dataset1, dataset2, percentage_or_count):\n",
    "    \"\"\"\n",
    "    Выбирает случайное подмножество из двух наборов данных одинаковой длины, используя индексы из первого набора.\n",
    "\n",
    "    Args:\n",
    "        dataset1: Первый набор данных (определяет индексы).\n",
    "        dataset2: Второй набор данных.\n",
    "        percentage_or_count: Процент (от 0 до 100) или количество элементов.\n",
    "\n",
    "    Returns:\n",
    "        Кортеж из двух списков: случайное подмножество dataset1 и dataset2, выбранное по общим индексам.\n",
    "        Возвращает None, если ввод некорректен или наборы данных имеют разную длину.\n",
    "    \"\"\"\n",
    "    if len(dataset1) != len(dataset2):\n",
    "        print(\"Наборы данных должны иметь одинаковую длину.\")\n",
    "        return None\n",
    "\n",
    "    data_len = len(dataset1)\n",
    "    subset_indices = get_random_indices(data_len, percentage_or_count)\n",
    "\n",
    "    if subset_indices is None:\n",
    "        return None\n",
    "\n",
    "    subset1 = [dataset1[i] for i in subset_indices]\n",
    "    subset2 = [dataset2[i] for i in subset_indices]\n",
    "\n",
    "    return subset1, subset2\n",
    "\n",
    "\n",
    "def get_random_indices(data_len, percentage_or_count):\n",
    "    \"\"\"\n",
    "    Выбирает случайные индексы, основываясь на проценте или количестве элементов.  Вспомогательная функция.\n",
    "    \"\"\"\n",
    "    if 0 <= percentage_or_count <= 100:\n",
    "        sample_size = int(data_len * (percentage_or_count / 100))\n",
    "        if sample_size == 0 and data_len > 0:\n",
    "            sample_size = 1\n",
    "        return random.sample(range(data_len), sample_size) if data_len > 0 else []\n",
    "\n",
    "    elif isinstance(percentage_or_count, int) and 0 <= percentage_or_count <= data_len:\n",
    "        return random.sample(range(data_len), percentage_or_count) if data_len > 0 else []\n",
    "\n",
    "    else:\n",
    "        print(\"Некорректный ввод. Введите процент (от 0 до 100) или количество элементов.\")\n",
    "        return None"
   ]
  },
  {
   "cell_type": "code",
   "execution_count": null,
   "metadata": {},
   "outputs": [],
   "source": [
    "def split_dataset(dataset_dir: str, experiment_path: str, percentage: int):\n",
    "    image_paths = []\n",
    "    label_paths = []\n",
    "\n",
    "    for root, _, files in os.walk(dataset_dir):\n",
    "        if 'images' in root and 'train' not in root and 'val' not in root:\n",
    "            for file in files:\n",
    "                if file.endswith('.jpg'):\n",
    "                    image_paths.append(os.path.join(root, file))\n",
    "                    label_paths.append(os.path.join(root.replace('images', 'labels'), file.replace('.jpg', '.txt')))\n",
    "    train_img_paths, val_img_paths, train_label_paths, val_label_paths = train_test_split(image_paths, \n",
    "                                                                                          label_paths,\n",
    "                                                                                          test_size=0.2,\n",
    "                                                                                          random_state=42)\n",
    "    \n",
    "    train_img_paths, train_label_paths = get_random_subset_from_two_datasets(train_img_paths, train_label_paths, percentage)\n",
    "\n",
    "    train_images_dir = os.path.join('data', experiment_path, 'train', 'images')\n",
    "    val_images_dir = os.path.join('data', experiment_path, 'val', 'images')\n",
    "    train_labels_dir = os.path.join('data', experiment_path, 'train', 'labels')\n",
    "    val_labels_dir = os.path.join('data', experiment_path, 'val', 'labels')\n",
    "\n",
    "    os.makedirs(train_images_dir, exist_ok=True)\n",
    "    os.makedirs(val_images_dir, exist_ok=True)\n",
    "    os.makedirs(train_labels_dir, exist_ok=True)\n",
    "    os.makedirs(val_labels_dir, exist_ok=True)\n",
    "\n",
    "    for train_img_path, train_label_path in zip(train_img_paths, train_label_paths):\n",
    "        shutil.copy2(train_img_path, train_img_path.replace(r'dataset\\images', experiment_path + r'\\train\\images'))\n",
    "        shutil.copy2(train_label_path, train_label_path.replace(r'dataset\\labels', experiment_path + r'\\train\\labels'))\n",
    "\n",
    "    for val_img_path, val_label_path in zip(val_img_paths, val_label_paths):\n",
    "        try:\n",
    "            shutil.copy2(val_img_path, val_img_path.replace(r'dataset\\images', experiment_path + r'\\val\\images'))\n",
    "            shutil.copy2(val_label_path, val_label_path.replace(r'dataset\\labels', experiment_path + r'\\val\\labels'))\n",
    "        except Exception as e:\n",
    "            print(e)\n",
    "            print('a2', val_img_path)\n",
    "            print('b2', val_img_path.replace(r'datase\\images', experiment_path + r'\\val\\images'))\n",
    "    \n",
    "    yaml_path = os.path.join('data', experiment_path, 'data.yaml')\n",
    "    train_path = os.path.join('train', 'images')\n",
    "    val_path = os.path.join('val', 'images')\n",
    "    create_yaml(yaml_path, train_path, val_path)"
   ]
  },
  {
   "cell_type": "code",
   "execution_count": null,
   "metadata": {},
   "outputs": [],
   "source": [
    "dataset_dir = os.getcwd() + r'\\data\\dataset'"
   ]
  },
  {
   "cell_type": "code",
   "execution_count": null,
   "metadata": {},
   "outputs": [],
   "source": [
    "# создание полного датасета\n",
    "path_to_full_train = r'train_set\\full_train'\n",
    "split_dataset(\n",
    "    dataset_dir=dataset_dir,\n",
    "    experiment_path=path_to_full_train,\n",
    "    percentage=100\n",
    ")"
   ]
  },
  {
   "cell_type": "code",
   "execution_count": null,
   "metadata": {},
   "outputs": [],
   "source": [
    "# создание датасета в 20% от полного объема\n",
    "path_to_full_train = r'train_set\\20_train'\n",
    "split_dataset(\n",
    "    dataset_dir=dataset_dir,\n",
    "    experiment_path=path_to_full_train,\n",
    "    percentage=20\n",
    ")"
   ]
  },
  {
   "cell_type": "code",
   "execution_count": null,
   "metadata": {},
   "outputs": [],
   "source": [
    "# создание датасета в 10% от полного объема\n",
    "path_to_full_train = r'train_set\\10_train'\n",
    "split_dataset(\n",
    "    dataset_dir=dataset_dir,\n",
    "    experiment_path=path_to_full_train,\n",
    "    percentage=10\n",
    ")"
   ]
  },
  {
   "cell_type": "code",
   "execution_count": null,
   "metadata": {},
   "outputs": [],
   "source": [
    "# создание датасета в 1% от полного объема\n",
    "path_to_full_train = r'train_set\\1_train'\n",
    "split_dataset(\n",
    "    dataset_dir=dataset_dir,\n",
    "    experiment_path=path_to_full_train,\n",
    "    percentage=1\n",
    ")"
   ]
  },
  {
   "cell_type": "markdown",
   "metadata": {},
   "source": [
    "Обучение модели YOLOv10-M"
   ]
  },
  {
   "cell_type": "code",
   "execution_count": null,
   "metadata": {},
   "outputs": [],
   "source": [
    "print('CUDA available ->', torch.cuda.is_available())"
   ]
  },
  {
   "cell_type": "markdown",
   "metadata": {},
   "source": [
    "Обучение модели без активного обучения"
   ]
  },
  {
   "cell_type": "code",
   "execution_count": null,
   "metadata": {},
   "outputs": [],
   "source": [
    "def train_yolo_model(main_experiment: str, name: str, seed: int):\n",
    "    model = YOLO(\"yolov9e-seg.pt\")\n",
    "\n",
    "    ABS_PATH = os.getcwd()\n",
    "    results = model.train(\n",
    "        data = os.path.join(ABS_PATH, 'data', main_experiment, name, 'data.yaml'),\n",
    "        project = 'results',\n",
    "        name = name,\n",
    "        epochs = 25,\n",
    "        patience = 0,\n",
    "        batch = 5,\n",
    "        imgsz = 640,\n",
    "        seed=seed\n",
    "    )"
   ]
  },
  {
   "cell_type": "code",
   "execution_count": null,
   "metadata": {},
   "outputs": [],
   "source": [
    "train_yolo_model(main_experiment='train_set', name=f'full_train', seed=0)"
   ]
  },
  {
   "cell_type": "code",
   "execution_count": null,
   "metadata": {},
   "outputs": [],
   "source": [
    "for i in range(5):\n",
    "    train_yolo_model(main_experiment='train_set', name=f'1_train', seed=(i + 1) * 1)"
   ]
  },
  {
   "cell_type": "code",
   "execution_count": null,
   "metadata": {},
   "outputs": [],
   "source": [
    "for i in range(5):\n",
    "    train_yolo_model(main_experiment='train_set', name=f'10_train', seed=(i + 1) * 2)"
   ]
  },
  {
   "cell_type": "code",
   "execution_count": null,
   "metadata": {},
   "outputs": [],
   "source": [
    "for i in range(5):\n",
    "    train_yolo_model(main_experiment='train_set', name=f'20_train', seed=(i + 1) * 3)"
   ]
  },
  {
   "cell_type": "markdown",
   "metadata": {},
   "source": [
    "1 алгоритм Least Confidence:"
   ]
  },
  {
   "cell_type": "code",
   "execution_count": 176,
   "metadata": {},
   "outputs": [],
   "source": [
    "def create_least_confidence_dataset(\n",
    "        paths: list,\n",
    "        percentage_from_top: int,\n",
    "        percentage_from_bottom: int,\n",
    "        alg_name: str,\n",
    "        experiment_name: str):\n",
    "    num_samples = int(len(paths) * (percentage_from_top / 100))\n",
    "    \n",
    "    paths_to_train_images = paths[:num_samples]\n",
    "    paths_to_train_images = [path[path.find('/data'):] for path in paths_to_train_images]\n",
    "    \n",
    "    train_images_paths = [Path(path) for path in paths_to_train_images]\n",
    "\n",
    "    train_labels_paths = [Path(str(Path(path).parent).replace('images', 'labels')) /\n",
    "                          Path(str(Path(path).name).replace('.jpg', '.txt'))\n",
    "                          for path in paths_to_train_images]\n",
    "    \n",
    "    paths_to_val_images = paths[-(int(len(paths) * (percentage_from_bottom / 100)) + 1):]\n",
    "    paths_to_val_images = [path[path.find('/data'):] for path in paths_to_val_images]\n",
    "\n",
    "    val_images_paths = [Path(path) for path in paths_to_val_images]\n",
    "\n",
    "    val_labels_paths = [Path(str(Path(path).parent).replace('images', 'labels')) /\n",
    "                        Path(str(Path(path).name).replace('.jpg', '.txt'))\n",
    "                        for path in paths_to_val_images]\n",
    "    \n",
    "    project_path = Path(r'C:/Users/neutron/Desktop/ITaS')\n",
    "    train_images_dir = os.path.join('data', alg_name, experiment_name, 'train', 'images')\n",
    "    val_images_dir = os.path.join('data', alg_name, experiment_name, 'val', 'images')\n",
    "    train_labels_dir = os.path.join('data', alg_name, experiment_name, 'train', 'labels')\n",
    "    val_labels_dir = os.path.join('data', alg_name, experiment_name, 'val', 'labels')\n",
    "\n",
    "    os.makedirs(train_images_dir, exist_ok=True)\n",
    "    os.makedirs(val_images_dir, exist_ok=True)\n",
    "    os.makedirs(train_labels_dir, exist_ok=True)\n",
    "    os.makedirs(val_labels_dir, exist_ok=True)\n",
    "\n",
    "    for train_image_path, train_label_path in zip(train_images_paths, train_labels_paths):\n",
    "        train_image_path = project_path.joinpath('data', 'dataset', 'images', train_image_path.name)\n",
    "        train_label_path = project_path.joinpath('data', 'dataset', 'labels', train_label_path.name)\n",
    "\n",
    "        shutil.copy2(train_image_path,\n",
    "                     Path(str(train_image_path).replace(r'dataset\\images', os.path.join(alg_name, experiment_name, 'train', 'images'))))\n",
    "\n",
    "        shutil.copy2(train_label_path,\n",
    "                     Path(str(train_label_path).replace(r'dataset\\labels', os.path.join(alg_name, experiment_name, 'train', 'labels'))))\n",
    "        \n",
    "    for val_image_path, val_label_path in zip(val_images_paths, val_labels_paths):\n",
    "        val_image_path = project_path.joinpath('data', 'dataset', 'images', val_image_path.name)\n",
    "        val_label_path = project_path.joinpath('data', 'dataset', 'labels', val_label_path.name)\n",
    "\n",
    "        shutil.copy2(val_image_path,\n",
    "                     Path(str(val_image_path).replace(r'dataset\\images', os.path.join(alg_name, experiment_name, 'val', 'images'))))\n",
    "\n",
    "        shutil.copy2(val_label_path,\n",
    "                     Path(str(val_label_path).replace(r'dataset\\labels', os.path.join(alg_name, experiment_name, 'val', 'labels'))))\n"
   ]
  },
  {
   "cell_type": "code",
   "execution_count": 177,
   "metadata": {},
   "outputs": [],
   "source": [
    "paths_to_images_least_confidence = []\n",
    "with open(Path('data/least_confidence/least_confidence.txt'), 'r', encoding='utf-8') as file:\n",
    "    paths_to_images_least_confidence = [line.strip() for line in file.readlines()]"
   ]
  },
  {
   "cell_type": "code",
   "execution_count": 178,
   "metadata": {},
   "outputs": [],
   "source": [
    "create_least_confidence_dataset(paths_to_images_least_confidence, 1, 20, 'least_confidence', '1_train')\n",
    "create_least_confidence_dataset(paths_to_images_least_confidence, 10, 20, 'least_confidence', '10_train')\n",
    "create_least_confidence_dataset(paths_to_images_least_confidence, 20, 20, 'least_confidence', '20_train')"
   ]
  },
  {
   "cell_type": "code",
   "execution_count": 179,
   "metadata": {},
   "outputs": [],
   "source": [
    "create_yaml('data/least_confidence/1_train/data.yaml', 'train/images', 'val/images')\n",
    "create_yaml('data/least_confidence/10_train/data.yaml', 'train/images', 'val/images')\n",
    "create_yaml('data/least_confidence/20_train/data.yaml', 'train/images', 'val/images')"
   ]
  },
  {
   "cell_type": "markdown",
   "metadata": {},
   "source": [
    "2 алгоритм Margin Sampling\n",
    "\n",
    "Алгоритм используется для увеличение качества распознования таких как классов как pneumonia/bronchopneumonia и pulmonary edema, так как эти заболевания довольно похожи друг на друга."
   ]
  },
  {
   "cell_type": "code",
   "execution_count": null,
   "metadata": {},
   "outputs": [],
   "source": [
    "def create_margin_sampling_dataset(\n",
    "        paths: list,\n",
    "        percentage_from_top: int,\n",
    "        percentage_from_bottom: int,\n",
    "        alg_name: str,\n",
    "        experiment_name: str):\n",
    "    \n",
    "    if percentage_from_top == 1:\n",
    "        num_samples = 13\n",
    "    elif percentage_from_top == 10:\n",
    "        num_samples = 138\n",
    "    elif percentage_from_top == 20:\n",
    "        num_samples = 276\n",
    "    else:\n",
    "        print('Выберите один из следующих вариантов: 1, 10, 20!')\n",
    "        return None\n",
    "\n",
    "    paths_to_train_images = paths[:num_samples]\n",
    "    paths_to_train_images = [path[path.find('/data'):] for path in paths_to_train_images]\n",
    "\n",
    "    train_images_paths = [Path(path) for path in paths_to_train_images]\n",
    "\n",
    "    train_labels_paths = [Path(str(Path(path).parent).replace('images', 'labels')) /\n",
    "                          Path(str(Path(path).name).replace('.jpg', '.txt'))\n",
    "                          for path in paths_to_train_images]\n",
    "    \n",
    "    paths_to_val_images = paths[-277:]\n",
    "    paths_to_val_images = [path[path.find('/data'):] for path in paths_to_val_images]\n",
    "\n",
    "    val_images_paths = [Path(path) for path in paths_to_val_images]\n",
    "\n",
    "    val_labels_paths = [Path(str(Path(path).parent).replace('images', 'labels')) /\n",
    "                        Path(str(Path(path).name).replace('.jpg', '.txt'))\n",
    "                        for path in paths_to_val_images]\n",
    "    \n",
    "    project_path = Path(r'C:/Users/neutron/Desktop/ITaS')\n",
    "    train_images_dir = os.path.join('data', alg_name, experiment_name, 'train', 'images')\n",
    "    val_images_dir = os.path.join('data', alg_name, experiment_name, 'val', 'images')\n",
    "    train_labels_dir = os.path.join('data', alg_name, experiment_name, 'train', 'labels')\n",
    "    val_labels_dir = os.path.join('data', alg_name, experiment_name, 'val', 'labels')\n",
    "\n",
    "    os.makedirs(train_images_dir, exist_ok=True)\n",
    "    os.makedirs(val_images_dir, exist_ok=True)\n",
    "    os.makedirs(train_labels_dir, exist_ok=True)\n",
    "    os.makedirs(val_labels_dir, exist_ok=True)\n",
    "\n",
    "    for train_image_path, train_label_path in zip(train_images_paths, train_labels_paths):\n",
    "        train_image_path = project_path.joinpath('data', 'dataset', 'images', train_image_path.name)\n",
    "        train_label_path = project_path.joinpath('data', 'dataset', 'labels', train_label_path.name)\n",
    "\n",
    "        shutil.copy2(train_image_path,\n",
    "                     Path(str(train_image_path).replace(r'dataset\\images', os.path.join(alg_name, experiment_name, 'train', 'images'))))\n",
    "\n",
    "        shutil.copy2(train_label_path,\n",
    "                     Path(str(train_label_path).replace(r'dataset\\labels', os.path.join(alg_name, experiment_name, 'train', 'labels'))))\n",
    "    \n",
    "    for val_image_path, val_label_path in zip(val_images_paths, val_labels_paths):\n",
    "        val_image_path = project_path.joinpath('data', 'dataset', 'images', val_image_path.name)\n",
    "        val_label_path = project_path.joinpath('data', 'dataset', 'labels', val_label_path.name)\n",
    "\n",
    "        shutil.copy2(val_image_path,\n",
    "                     Path(str(val_image_path).replace(r'dataset\\images', os.path.join(alg_name, experiment_name, 'val', 'images'))))\n",
    "\n",
    "        shutil.copy2(val_label_path,\n",
    "                     Path(str(val_label_path).replace(r'dataset\\labels', os.path.join(alg_name, experiment_name, 'val', 'labels'))))"
   ]
  },
  {
   "cell_type": "code",
   "execution_count": 181,
   "metadata": {},
   "outputs": [],
   "source": [
    "paths_to_images_margin_sampling = []\n",
    "with open(Path('data/margin_sampling/margin_sampling.txt'), 'r', encoding='utf-8') as file:\n",
    "    paths_to_images_margin_sampling = [line.strip() for line in file.readlines()]"
   ]
  },
  {
   "cell_type": "code",
   "execution_count": 182,
   "metadata": {},
   "outputs": [
    {
     "name": "stdout",
     "output_type": "stream",
     "text": [
      "['/kaggle/input/itas-2024/data/dataset/images/1.1.2.1.1008.jpg', '/kaggle/input/itas-2024/data/dataset/images/1.1.2.1.1063.jpg', '/kaggle/input/itas-2024/data/dataset/images/2.1.9.1.1064.jpg', '/kaggle/input/itas-2024/data/dataset/images/1.1.6.1.1022.jpg', '/kaggle/input/itas-2024/data/dataset/images/2.1.9.1.1068.jpg', '/kaggle/input/itas-2024/data/dataset/images/4.2.7.1.1126.jpg', '/kaggle/input/itas-2024/data/dataset/images/1.2.8.1.1055.jpg', '/kaggle/input/itas-2024/data/dataset/images/2.1.2.1.1141.jpg', '/kaggle/input/itas-2024/data/dataset/images/3.1.1.1.33.jpg', '/kaggle/input/itas-2024/data/dataset/images/1.2.8.1.1013.jpg', '/kaggle/input/itas-2024/data/dataset/images/2.1.3.1.1017.jpg', '/kaggle/input/itas-2024/data/dataset/images/1.2.2.1.1086.jpg', '/kaggle/input/itas-2024/data/dataset/images/1.1.2.1.1017.jpg']\n",
      "['/kaggle/input/itas-2024/data/dataset/images/1.1.2.1.1008.jpg', '/kaggle/input/itas-2024/data/dataset/images/1.1.2.1.1063.jpg', '/kaggle/input/itas-2024/data/dataset/images/2.1.9.1.1064.jpg', '/kaggle/input/itas-2024/data/dataset/images/1.1.6.1.1022.jpg', '/kaggle/input/itas-2024/data/dataset/images/2.1.9.1.1068.jpg', '/kaggle/input/itas-2024/data/dataset/images/4.2.7.1.1126.jpg', '/kaggle/input/itas-2024/data/dataset/images/1.2.8.1.1055.jpg', '/kaggle/input/itas-2024/data/dataset/images/2.1.2.1.1141.jpg', '/kaggle/input/itas-2024/data/dataset/images/3.1.1.1.33.jpg', '/kaggle/input/itas-2024/data/dataset/images/1.2.8.1.1013.jpg', '/kaggle/input/itas-2024/data/dataset/images/2.1.3.1.1017.jpg', '/kaggle/input/itas-2024/data/dataset/images/1.2.2.1.1086.jpg', '/kaggle/input/itas-2024/data/dataset/images/1.1.2.1.1017.jpg', '/kaggle/input/itas-2024/data/dataset/images/1.1.2.1.1015.jpg', '/kaggle/input/itas-2024/data/dataset/images/1.1.1.1.197.jpg', '/kaggle/input/itas-2024/data/dataset/images/1.2.7.1.1035.jpg', '/kaggle/input/itas-2024/data/dataset/images/1.2.2.1.1066.jpg', '/kaggle/input/itas-2024/data/dataset/images/2.1.2.1.1161.jpg', '/kaggle/input/itas-2024/data/dataset/images/1.2.6.1.1011.jpg', '/kaggle/input/itas-2024/data/dataset/images/1.2.9.1.1011.jpg', '/kaggle/input/itas-2024/data/dataset/images/1.2.2.1.1081.jpg', '/kaggle/input/itas-2024/data/dataset/images/1.2.2.1.1021.jpg', '/kaggle/input/itas-2024/data/dataset/images/1.1.8.1.1007.jpg', '/kaggle/input/itas-2024/data/dataset/images/1.1.1.1.99.jpg', '/kaggle/input/itas-2024/data/dataset/images/1.2.7.1.1023.jpg', '/kaggle/input/itas-2024/data/dataset/images/1.1.1.1.88.jpg', '/kaggle/input/itas-2024/data/dataset/images/1.1.5.1.1018.jpg', '/kaggle/input/itas-2024/data/dataset/images/1.2.8.1.1014.jpg', '/kaggle/input/itas-2024/data/dataset/images/2.1.2.1.1083.jpg', '/kaggle/input/itas-2024/data/dataset/images/2.1.2.1.1114.jpg', '/kaggle/input/itas-2024/data/dataset/images/1.2.2.1.1084.jpg', '/kaggle/input/itas-2024/data/dataset/images/3.1.1.1.40.jpg', '/kaggle/input/itas-2024/data/dataset/images/3.1.1.1.45.jpg', '/kaggle/input/itas-2024/data/dataset/images/1.1.2.1.1029.jpg', '/kaggle/input/itas-2024/data/dataset/images/2.2.7.1.26.jpg', '/kaggle/input/itas-2024/data/dataset/images/1.1.1.1.28.jpg', '/kaggle/input/itas-2024/data/dataset/images/1.2.2.1.1110.jpg', '/kaggle/input/itas-2024/data/dataset/images/1.2.7.1.1022.jpg', '/kaggle/input/itas-2024/data/dataset/images/1.1.8.1.1011.jpg', '/kaggle/input/itas-2024/data/dataset/images/3.1.1.1.21.jpg', '/kaggle/input/itas-2024/data/dataset/images/2.1.1.1.110.jpg', '/kaggle/input/itas-2024/data/dataset/images/2.2.5.1.9.jpg', '/kaggle/input/itas-2024/data/dataset/images/1.1.2.1.1069.jpg', '/kaggle/input/itas-2024/data/dataset/images/1.1.5.1.1032.jpg', '/kaggle/input/itas-2024/data/dataset/images/1.1.9.1.1014.jpg', '/kaggle/input/itas-2024/data/dataset/images/1.1.2.1.1010.jpg', '/kaggle/input/itas-2024/data/dataset/images/1.2.2.1.1123.jpg', '/kaggle/input/itas-2024/data/dataset/images/1.1.1.1.74.jpg', '/kaggle/input/itas-2024/data/dataset/images/1.1.2.1.1064.jpg', '/kaggle/input/itas-2024/data/dataset/images/1.2.7.1.1011.jpg', '/kaggle/input/itas-2024/data/dataset/images/3.2.1.1.8.jpg', '/kaggle/input/itas-2024/data/dataset/images/2.1.5.1.1094.jpg', '/kaggle/input/itas-2024/data/dataset/images/1.2.2.1.1049.jpg', '/kaggle/input/itas-2024/data/dataset/images/1.2.6.1.1010.jpg', '/kaggle/input/itas-2024/data/dataset/images/1.2.9.1.1010.jpg', '/kaggle/input/itas-2024/data/dataset/images/1.2.2.1.1088.jpg', '/kaggle/input/itas-2024/data/dataset/images/2.1.1.1.181.jpg', '/kaggle/input/itas-2024/data/dataset/images/1.2.4.1.10.jpg', '/kaggle/input/itas-2024/data/dataset/images/2.1.2.1.1153.jpg', '/kaggle/input/itas-2024/data/dataset/images/1.1.1.1.138.jpg', '/kaggle/input/itas-2024/data/dataset/images/1.1.2.1.1058.jpg', '/kaggle/input/itas-2024/data/dataset/images/2.2.4.1.58.jpg', '/kaggle/input/itas-2024/data/dataset/images/1.1.2.1.1011.jpg', '/kaggle/input/itas-2024/data/dataset/images/1.2.5.1.1005.jpg', '/kaggle/input/itas-2024/data/dataset/images/1.2.7.1.1033.jpg', '/kaggle/input/itas-2024/data/dataset/images/1.2.2.1.1010.jpg', '/kaggle/input/itas-2024/data/dataset/images/2.1.2.1.1158.jpg', '/kaggle/input/itas-2024/data/dataset/images/1.2.2.1.1060.jpg', '/kaggle/input/itas-2024/data/dataset/images/2.1.5.1.65.jpg', '/kaggle/input/itas-2024/data/dataset/images/1.1.1.1.151.jpg', '/kaggle/input/itas-2024/data/dataset/images/1.2.2.1.1033.jpg', '/kaggle/input/itas-2024/data/dataset/images/3.1.1.1.35.jpg', '/kaggle/input/itas-2024/data/dataset/images/4.2.7.1.1109.jpg', '/kaggle/input/itas-2024/data/dataset/images/3.1.1.1.42.jpg', '/kaggle/input/itas-2024/data/dataset/images/1.2.7.1.1031.jpg', '/kaggle/input/itas-2024/data/dataset/images/1.2.2.1.1126.jpg', '/kaggle/input/itas-2024/data/dataset/images/2.1.1.1.56.jpg', '/kaggle/input/itas-2024/data/dataset/images/1.2.2.1.1053.jpg', '/kaggle/input/itas-2024/data/dataset/images/1.2.2.1.1025.jpg', '/kaggle/input/itas-2024/data/dataset/images/2.1.2.1.1103.jpg', '/kaggle/input/itas-2024/data/dataset/images/1.2.2.1.1071.jpg', '/kaggle/input/itas-2024/data/dataset/images/1.2.7.1.1034.jpg', '/kaggle/input/itas-2024/data/dataset/images/1.2.8.1.1012.jpg', '/kaggle/input/itas-2024/data/dataset/images/1.2.3.1.1026.jpg', '/kaggle/input/itas-2024/data/dataset/images/1.1.2.1.1040.jpg', '/kaggle/input/itas-2024/data/dataset/images/1.2.7.1.1008.jpg', '/kaggle/input/itas-2024/data/dataset/images/1.2.2.1.1037.jpg', '/kaggle/input/itas-2024/data/dataset/images/3.1.1.1.4.jpg', '/kaggle/input/itas-2024/data/dataset/images/1.2.2.1.1116.jpg', '/kaggle/input/itas-2024/data/dataset/images/1.1.3.1.73.jpg', '/kaggle/input/itas-2024/data/dataset/images/3.1.5.1.123.jpg', '/kaggle/input/itas-2024/data/dataset/images/4.2.7.1.1124.jpg', '/kaggle/input/itas-2024/data/dataset/images/2.1.1.1.137.jpg', '/kaggle/input/itas-2024/data/dataset/images/1.2.7.1.1020.jpg', '/kaggle/input/itas-2024/data/dataset/images/1.2.2.1.1093.jpg', '/kaggle/input/itas-2024/data/dataset/images/1.1.2.1.1050.jpg', '/kaggle/input/itas-2024/data/dataset/images/2.1.1.1.93.jpg', '/kaggle/input/itas-2024/data/dataset/images/1.2.2.1.1038.jpg', '/kaggle/input/itas-2024/data/dataset/images/4.2.7.1.1114.jpg', '/kaggle/input/itas-2024/data/dataset/images/1.2.3.1.1012.jpg', '/kaggle/input/itas-2024/data/dataset/images/3.1.1.1.3.jpg', '/kaggle/input/itas-2024/data/dataset/images/2.1.2.1.1109.jpg', '/kaggle/input/itas-2024/data/dataset/images/1.1.2.1.1014.jpg', '/kaggle/input/itas-2024/data/dataset/images/4.2.7.1.1121.jpg', '/kaggle/input/itas-2024/data/dataset/images/1.1.8.1.1012.jpg', '/kaggle/input/itas-2024/data/dataset/images/1.2.2.1.1118.jpg', '/kaggle/input/itas-2024/data/dataset/images/1.2.7.1.1026.jpg', '/kaggle/input/itas-2024/data/dataset/images/1.1.5.1.1002.jpg', '/kaggle/input/itas-2024/data/dataset/images/1.2.7.1.1024.jpg', '/kaggle/input/itas-2024/data/dataset/images/1.2.2.1.1112.jpg', '/kaggle/input/itas-2024/data/dataset/images/1.2.3.1.194.jpg', '/kaggle/input/itas-2024/data/dataset/images/2.1.2.1.1159.jpg', '/kaggle/input/itas-2024/data/dataset/images/1.2.2.1.1069.jpg', '/kaggle/input/itas-2024/data/dataset/images/2.2.2.1.77.jpg', '/kaggle/input/itas-2024/data/dataset/images/1.2.5.1.60.jpg', '/kaggle/input/itas-2024/data/dataset/images/2.1.5.1.1073.jpg', '/kaggle/input/itas-2024/data/dataset/images/2.1.9.1.1076.jpg', '/kaggle/input/itas-2024/data/dataset/images/3.2.4.1.198.jpg', '/kaggle/input/itas-2024/data/dataset/images/2.2.2.1.130.jpg', '/kaggle/input/itas-2024/data/dataset/images/1.2.2.1.1077.jpg', '/kaggle/input/itas-2024/data/dataset/images/2.1.1.1.32.jpg', '/kaggle/input/itas-2024/data/dataset/images/1.2.8.1.1007.jpg', '/kaggle/input/itas-2024/data/dataset/images/2.1.1.1.170.jpg', '/kaggle/input/itas-2024/data/dataset/images/1.2.2.1.1032.jpg', '/kaggle/input/itas-2024/data/dataset/images/3.2.3.1.5.jpg', '/kaggle/input/itas-2024/data/dataset/images/1.1.2.1.1002.jpg', '/kaggle/input/itas-2024/data/dataset/images/1.2.3.1.1023.jpg', '/kaggle/input/itas-2024/data/dataset/images/1.1.1.1.127.jpg', '/kaggle/input/itas-2024/data/dataset/images/1.1.8.1.1010.jpg', '/kaggle/input/itas-2024/data/dataset/images/1.2.2.1.1117.jpg', '/kaggle/input/itas-2024/data/dataset/images/2.1.1.1.132.jpg', '/kaggle/input/itas-2024/data/dataset/images/2.1.1.1.128.jpg', '/kaggle/input/itas-2024/data/dataset/images/1.2.3.1.1013.jpg', '/kaggle/input/itas-2024/data/dataset/images/1.2.7.1.1014.jpg', '/kaggle/input/itas-2024/data/dataset/images/1.2.2.1.1076.jpg', '/kaggle/input/itas-2024/data/dataset/images/1.1.1.1.170.jpg', '/kaggle/input/itas-2024/data/dataset/images/1.2.2.1.1023.jpg', '/kaggle/input/itas-2024/data/dataset/images/1.2.2.1.1017.jpg']\n",
      "['/kaggle/input/itas-2024/data/dataset/images/1.1.2.1.1008.jpg', '/kaggle/input/itas-2024/data/dataset/images/1.1.2.1.1063.jpg', '/kaggle/input/itas-2024/data/dataset/images/2.1.9.1.1064.jpg', '/kaggle/input/itas-2024/data/dataset/images/1.1.6.1.1022.jpg', '/kaggle/input/itas-2024/data/dataset/images/2.1.9.1.1068.jpg', '/kaggle/input/itas-2024/data/dataset/images/4.2.7.1.1126.jpg', '/kaggle/input/itas-2024/data/dataset/images/1.2.8.1.1055.jpg', '/kaggle/input/itas-2024/data/dataset/images/2.1.2.1.1141.jpg', '/kaggle/input/itas-2024/data/dataset/images/3.1.1.1.33.jpg', '/kaggle/input/itas-2024/data/dataset/images/1.2.8.1.1013.jpg', '/kaggle/input/itas-2024/data/dataset/images/2.1.3.1.1017.jpg', '/kaggle/input/itas-2024/data/dataset/images/1.2.2.1.1086.jpg', '/kaggle/input/itas-2024/data/dataset/images/1.1.2.1.1017.jpg', '/kaggle/input/itas-2024/data/dataset/images/1.1.2.1.1015.jpg', '/kaggle/input/itas-2024/data/dataset/images/1.1.1.1.197.jpg', '/kaggle/input/itas-2024/data/dataset/images/1.2.7.1.1035.jpg', '/kaggle/input/itas-2024/data/dataset/images/1.2.2.1.1066.jpg', '/kaggle/input/itas-2024/data/dataset/images/2.1.2.1.1161.jpg', '/kaggle/input/itas-2024/data/dataset/images/1.2.6.1.1011.jpg', '/kaggle/input/itas-2024/data/dataset/images/1.2.9.1.1011.jpg', '/kaggle/input/itas-2024/data/dataset/images/1.2.2.1.1081.jpg', '/kaggle/input/itas-2024/data/dataset/images/1.2.2.1.1021.jpg', '/kaggle/input/itas-2024/data/dataset/images/1.1.8.1.1007.jpg', '/kaggle/input/itas-2024/data/dataset/images/1.1.1.1.99.jpg', '/kaggle/input/itas-2024/data/dataset/images/1.2.7.1.1023.jpg', '/kaggle/input/itas-2024/data/dataset/images/1.1.1.1.88.jpg', '/kaggle/input/itas-2024/data/dataset/images/1.1.5.1.1018.jpg', '/kaggle/input/itas-2024/data/dataset/images/1.2.8.1.1014.jpg', '/kaggle/input/itas-2024/data/dataset/images/2.1.2.1.1083.jpg', '/kaggle/input/itas-2024/data/dataset/images/2.1.2.1.1114.jpg', '/kaggle/input/itas-2024/data/dataset/images/1.2.2.1.1084.jpg', '/kaggle/input/itas-2024/data/dataset/images/3.1.1.1.40.jpg', '/kaggle/input/itas-2024/data/dataset/images/3.1.1.1.45.jpg', '/kaggle/input/itas-2024/data/dataset/images/1.1.2.1.1029.jpg', '/kaggle/input/itas-2024/data/dataset/images/2.2.7.1.26.jpg', '/kaggle/input/itas-2024/data/dataset/images/1.1.1.1.28.jpg', '/kaggle/input/itas-2024/data/dataset/images/1.2.2.1.1110.jpg', '/kaggle/input/itas-2024/data/dataset/images/1.2.7.1.1022.jpg', '/kaggle/input/itas-2024/data/dataset/images/1.1.8.1.1011.jpg', '/kaggle/input/itas-2024/data/dataset/images/3.1.1.1.21.jpg', '/kaggle/input/itas-2024/data/dataset/images/2.1.1.1.110.jpg', '/kaggle/input/itas-2024/data/dataset/images/2.2.5.1.9.jpg', '/kaggle/input/itas-2024/data/dataset/images/1.1.2.1.1069.jpg', '/kaggle/input/itas-2024/data/dataset/images/1.1.5.1.1032.jpg', '/kaggle/input/itas-2024/data/dataset/images/1.1.9.1.1014.jpg', '/kaggle/input/itas-2024/data/dataset/images/1.1.2.1.1010.jpg', '/kaggle/input/itas-2024/data/dataset/images/1.2.2.1.1123.jpg', '/kaggle/input/itas-2024/data/dataset/images/1.1.1.1.74.jpg', '/kaggle/input/itas-2024/data/dataset/images/1.1.2.1.1064.jpg', '/kaggle/input/itas-2024/data/dataset/images/1.2.7.1.1011.jpg', '/kaggle/input/itas-2024/data/dataset/images/3.2.1.1.8.jpg', '/kaggle/input/itas-2024/data/dataset/images/2.1.5.1.1094.jpg', '/kaggle/input/itas-2024/data/dataset/images/1.2.2.1.1049.jpg', '/kaggle/input/itas-2024/data/dataset/images/1.2.6.1.1010.jpg', '/kaggle/input/itas-2024/data/dataset/images/1.2.9.1.1010.jpg', '/kaggle/input/itas-2024/data/dataset/images/1.2.2.1.1088.jpg', '/kaggle/input/itas-2024/data/dataset/images/2.1.1.1.181.jpg', '/kaggle/input/itas-2024/data/dataset/images/1.2.4.1.10.jpg', '/kaggle/input/itas-2024/data/dataset/images/2.1.2.1.1153.jpg', '/kaggle/input/itas-2024/data/dataset/images/1.1.1.1.138.jpg', '/kaggle/input/itas-2024/data/dataset/images/1.1.2.1.1058.jpg', '/kaggle/input/itas-2024/data/dataset/images/2.2.4.1.58.jpg', '/kaggle/input/itas-2024/data/dataset/images/1.1.2.1.1011.jpg', '/kaggle/input/itas-2024/data/dataset/images/1.2.5.1.1005.jpg', '/kaggle/input/itas-2024/data/dataset/images/1.2.7.1.1033.jpg', '/kaggle/input/itas-2024/data/dataset/images/1.2.2.1.1010.jpg', '/kaggle/input/itas-2024/data/dataset/images/2.1.2.1.1158.jpg', '/kaggle/input/itas-2024/data/dataset/images/1.2.2.1.1060.jpg', '/kaggle/input/itas-2024/data/dataset/images/2.1.5.1.65.jpg', '/kaggle/input/itas-2024/data/dataset/images/1.1.1.1.151.jpg', '/kaggle/input/itas-2024/data/dataset/images/1.2.2.1.1033.jpg', '/kaggle/input/itas-2024/data/dataset/images/3.1.1.1.35.jpg', '/kaggle/input/itas-2024/data/dataset/images/4.2.7.1.1109.jpg', '/kaggle/input/itas-2024/data/dataset/images/3.1.1.1.42.jpg', '/kaggle/input/itas-2024/data/dataset/images/1.2.7.1.1031.jpg', '/kaggle/input/itas-2024/data/dataset/images/1.2.2.1.1126.jpg', '/kaggle/input/itas-2024/data/dataset/images/2.1.1.1.56.jpg', '/kaggle/input/itas-2024/data/dataset/images/1.2.2.1.1053.jpg', '/kaggle/input/itas-2024/data/dataset/images/1.2.2.1.1025.jpg', '/kaggle/input/itas-2024/data/dataset/images/2.1.2.1.1103.jpg', '/kaggle/input/itas-2024/data/dataset/images/1.2.2.1.1071.jpg', '/kaggle/input/itas-2024/data/dataset/images/1.2.7.1.1034.jpg', '/kaggle/input/itas-2024/data/dataset/images/1.2.8.1.1012.jpg', '/kaggle/input/itas-2024/data/dataset/images/1.2.3.1.1026.jpg', '/kaggle/input/itas-2024/data/dataset/images/1.1.2.1.1040.jpg', '/kaggle/input/itas-2024/data/dataset/images/1.2.7.1.1008.jpg', '/kaggle/input/itas-2024/data/dataset/images/1.2.2.1.1037.jpg', '/kaggle/input/itas-2024/data/dataset/images/3.1.1.1.4.jpg', '/kaggle/input/itas-2024/data/dataset/images/1.2.2.1.1116.jpg', '/kaggle/input/itas-2024/data/dataset/images/1.1.3.1.73.jpg', '/kaggle/input/itas-2024/data/dataset/images/3.1.5.1.123.jpg', '/kaggle/input/itas-2024/data/dataset/images/4.2.7.1.1124.jpg', '/kaggle/input/itas-2024/data/dataset/images/2.1.1.1.137.jpg', '/kaggle/input/itas-2024/data/dataset/images/1.2.7.1.1020.jpg', '/kaggle/input/itas-2024/data/dataset/images/1.2.2.1.1093.jpg', '/kaggle/input/itas-2024/data/dataset/images/1.1.2.1.1050.jpg', '/kaggle/input/itas-2024/data/dataset/images/2.1.1.1.93.jpg', '/kaggle/input/itas-2024/data/dataset/images/1.2.2.1.1038.jpg', '/kaggle/input/itas-2024/data/dataset/images/4.2.7.1.1114.jpg', '/kaggle/input/itas-2024/data/dataset/images/1.2.3.1.1012.jpg', '/kaggle/input/itas-2024/data/dataset/images/3.1.1.1.3.jpg', '/kaggle/input/itas-2024/data/dataset/images/2.1.2.1.1109.jpg', '/kaggle/input/itas-2024/data/dataset/images/1.1.2.1.1014.jpg', '/kaggle/input/itas-2024/data/dataset/images/4.2.7.1.1121.jpg', '/kaggle/input/itas-2024/data/dataset/images/1.1.8.1.1012.jpg', '/kaggle/input/itas-2024/data/dataset/images/1.2.2.1.1118.jpg', '/kaggle/input/itas-2024/data/dataset/images/1.2.7.1.1026.jpg', '/kaggle/input/itas-2024/data/dataset/images/1.1.5.1.1002.jpg', '/kaggle/input/itas-2024/data/dataset/images/1.2.7.1.1024.jpg', '/kaggle/input/itas-2024/data/dataset/images/1.2.2.1.1112.jpg', '/kaggle/input/itas-2024/data/dataset/images/1.2.3.1.194.jpg', '/kaggle/input/itas-2024/data/dataset/images/2.1.2.1.1159.jpg', '/kaggle/input/itas-2024/data/dataset/images/1.2.2.1.1069.jpg', '/kaggle/input/itas-2024/data/dataset/images/2.2.2.1.77.jpg', '/kaggle/input/itas-2024/data/dataset/images/1.2.5.1.60.jpg', '/kaggle/input/itas-2024/data/dataset/images/2.1.5.1.1073.jpg', '/kaggle/input/itas-2024/data/dataset/images/2.1.9.1.1076.jpg', '/kaggle/input/itas-2024/data/dataset/images/3.2.4.1.198.jpg', '/kaggle/input/itas-2024/data/dataset/images/2.2.2.1.130.jpg', '/kaggle/input/itas-2024/data/dataset/images/1.2.2.1.1077.jpg', '/kaggle/input/itas-2024/data/dataset/images/2.1.1.1.32.jpg', '/kaggle/input/itas-2024/data/dataset/images/1.2.8.1.1007.jpg', '/kaggle/input/itas-2024/data/dataset/images/2.1.1.1.170.jpg', '/kaggle/input/itas-2024/data/dataset/images/1.2.2.1.1032.jpg', '/kaggle/input/itas-2024/data/dataset/images/3.2.3.1.5.jpg', '/kaggle/input/itas-2024/data/dataset/images/1.1.2.1.1002.jpg', '/kaggle/input/itas-2024/data/dataset/images/1.2.3.1.1023.jpg', '/kaggle/input/itas-2024/data/dataset/images/1.1.1.1.127.jpg', '/kaggle/input/itas-2024/data/dataset/images/1.1.8.1.1010.jpg', '/kaggle/input/itas-2024/data/dataset/images/1.2.2.1.1117.jpg', '/kaggle/input/itas-2024/data/dataset/images/2.1.1.1.132.jpg', '/kaggle/input/itas-2024/data/dataset/images/2.1.1.1.128.jpg', '/kaggle/input/itas-2024/data/dataset/images/1.2.3.1.1013.jpg', '/kaggle/input/itas-2024/data/dataset/images/1.2.7.1.1014.jpg', '/kaggle/input/itas-2024/data/dataset/images/1.2.2.1.1076.jpg', '/kaggle/input/itas-2024/data/dataset/images/1.1.1.1.170.jpg', '/kaggle/input/itas-2024/data/dataset/images/1.2.2.1.1023.jpg', '/kaggle/input/itas-2024/data/dataset/images/1.2.2.1.1017.jpg', '/kaggle/input/itas-2024/data/dataset/images/1.1.2.1.1053.jpg', '/kaggle/input/itas-2024/data/dataset/images/3.1.3.1.107.jpg', '/kaggle/input/itas-2024/data/dataset/images/3.2.2.1.10.jpg', '/kaggle/input/itas-2024/data/dataset/images/1.2.2.1.1001.jpg', '/kaggle/input/itas-2024/data/dataset/images/2.1.4.1.1058.jpg', '/kaggle/input/itas-2024/data/dataset/images/3.1.2.1.5.jpg', '/kaggle/input/itas-2024/data/dataset/images/2.1.9.1.1072.jpg', '/kaggle/input/itas-2024/data/dataset/images/2.1.6.1.1028.jpg', '/kaggle/input/itas-2024/data/dataset/images/1.1.1.1.128.jpg', '/kaggle/input/itas-2024/data/dataset/images/1.2.8.1.1016.jpg', '/kaggle/input/itas-2024/data/dataset/images/1.1.4.1.108.jpg', '/kaggle/input/itas-2024/data/dataset/images/1.1.3.1.148.jpg', '/kaggle/input/itas-2024/data/dataset/images/1.2.7.1.1041.jpg', '/kaggle/input/itas-2024/data/dataset/images/2.1.1.1.53.jpg', '/kaggle/input/itas-2024/data/dataset/images/1.2.2.1.1122.jpg', '/kaggle/input/itas-2024/data/dataset/images/1.1.1.1.185.jpg', '/kaggle/input/itas-2024/data/dataset/images/3.1.1.1.1.jpg', '/kaggle/input/itas-2024/data/dataset/images/1.2.2.1.1034.jpg', '/kaggle/input/itas-2024/data/dataset/images/1.2.2.1.1006.jpg', '/kaggle/input/itas-2024/data/dataset/images/3.2.2.1.3.jpg', '/kaggle/input/itas-2024/data/dataset/images/4.2.7.1.1119.jpg', '/kaggle/input/itas-2024/data/dataset/images/3.1.3.1.159.jpg', '/kaggle/input/itas-2024/data/dataset/images/1.2.2.1.1022.jpg', '/kaggle/input/itas-2024/data/dataset/images/1.1.1.1.181.jpg', '/kaggle/input/itas-2024/data/dataset/images/3.1.1.1.8.jpg', '/kaggle/input/itas-2024/data/dataset/images/3.2.8.1.3.jpg', '/kaggle/input/itas-2024/data/dataset/images/1.1.2.1.1020.jpg', '/kaggle/input/itas-2024/data/dataset/images/1.1.8.1.1002.jpg', '/kaggle/input/itas-2024/data/dataset/images/1.2.2.1.1089.jpg', '/kaggle/input/itas-2024/data/dataset/images/1.2.1.1.9.jpg', '/kaggle/input/itas-2024/data/dataset/images/1.1.2.1.1032.jpg', '/kaggle/input/itas-2024/data/dataset/images/3.1.1.1.37.jpg', '/kaggle/input/itas-2024/data/dataset/images/1.1.1.1.112.jpg', '/kaggle/input/itas-2024/data/dataset/images/1.2.2.1.1078.jpg', '/kaggle/input/itas-2024/data/dataset/images/3.1.2.1.4.jpg', '/kaggle/input/itas-2024/data/dataset/images/2.1.2.1.1147.jpg', '/kaggle/input/itas-2024/data/dataset/images/1.2.2.1.1115.jpg', '/kaggle/input/itas-2024/data/dataset/images/2.2.1.1.1.jpg', '/kaggle/input/itas-2024/data/dataset/images/1.2.7.1.1038.jpg', '/kaggle/input/itas-2024/data/dataset/images/1.2.7.1.165.jpg', '/kaggle/input/itas-2024/data/dataset/images/1.2.2.1.1083.jpg', '/kaggle/input/itas-2024/data/dataset/images/1.1.1.1.55.jpg', '/kaggle/input/itas-2024/data/dataset/images/2.1.8.1.1033.jpg', '/kaggle/input/itas-2024/data/dataset/images/2.1.5.1.1060.jpg', '/kaggle/input/itas-2024/data/dataset/images/1.2.7.1.1039.jpg', '/kaggle/input/itas-2024/data/dataset/images/1.2.2.1.1108.jpg', '/kaggle/input/itas-2024/data/dataset/images/1.1.2.1.1036.jpg', '/kaggle/input/itas-2024/data/dataset/images/1.1.4.1.1004.jpg', '/kaggle/input/itas-2024/data/dataset/images/4.2.7.1.1123.jpg', '/kaggle/input/itas-2024/data/dataset/images/1.2.2.1.1009.jpg', '/kaggle/input/itas-2024/data/dataset/images/2.2.2.1.164.jpg', '/kaggle/input/itas-2024/data/dataset/images/1.2.2.1.1114.jpg', '/kaggle/input/itas-2024/data/dataset/images/4.2.7.1.1113.jpg', '/kaggle/input/itas-2024/data/dataset/images/3.1.1.1.22.jpg', '/kaggle/input/itas-2024/data/dataset/images/2.1.2.1.1115.jpg', '/kaggle/input/itas-2024/data/dataset/images/1.1.5.1.1042.jpg', '/kaggle/input/itas-2024/data/dataset/images/2.1.5.1.15.jpg', '/kaggle/input/itas-2024/data/dataset/images/1.2.2.1.1015.jpg', '/kaggle/input/itas-2024/data/dataset/images/1.1.2.1.1034.jpg', '/kaggle/input/itas-2024/data/dataset/images/1.2.3.1.1025.jpg', '/kaggle/input/itas-2024/data/dataset/images/1.1.3.1.86.jpg', '/kaggle/input/itas-2024/data/dataset/images/2.2.1.1.37.jpg', '/kaggle/input/itas-2024/data/dataset/images/1.1.1.1.1.jpg', '/kaggle/input/itas-2024/data/dataset/images/4.2.3.1.1073.jpg', '/kaggle/input/itas-2024/data/dataset/images/1.1.1.1.172.jpg', '/kaggle/input/itas-2024/data/dataset/images/1.1.9.1.1023.jpg', '/kaggle/input/itas-2024/data/dataset/images/2.1.2.1.1108.jpg', '/kaggle/input/itas-2024/data/dataset/images/2.1.2.1.1099.jpg', '/kaggle/input/itas-2024/data/dataset/images/1.2.2.1.1028.jpg', '/kaggle/input/itas-2024/data/dataset/images/1.2.5.1.1001.jpg', '/kaggle/input/itas-2024/data/dataset/images/3.1.2.1.111.jpg', '/kaggle/input/itas-2024/data/dataset/images/1.1.3.1.1016.jpg', '/kaggle/input/itas-2024/data/dataset/images/2.1.2.1.1113.jpg', '/kaggle/input/itas-2024/data/dataset/images/1.2.2.1.1004.jpg', '/kaggle/input/itas-2024/data/dataset/images/1.2.7.1.1004.jpg', '/kaggle/input/itas-2024/data/dataset/images/1.2.7.1.1012.jpg', '/kaggle/input/itas-2024/data/dataset/images/3.2.1.1.2.jpg', '/kaggle/input/itas-2024/data/dataset/images/2.1.1.1.149.jpg', '/kaggle/input/itas-2024/data/dataset/images/1.2.2.1.1024.jpg', '/kaggle/input/itas-2024/data/dataset/images/1.1.1.1.136.jpg', '/kaggle/input/itas-2024/data/dataset/images/1.1.2.1.1003.jpg', '/kaggle/input/itas-2024/data/dataset/images/2.1.2.1.19.jpg', '/kaggle/input/itas-2024/data/dataset/images/1.1.1.1.21.jpg', '/kaggle/input/itas-2024/data/dataset/images/2.1.2.1.1151.jpg', '/kaggle/input/itas-2024/data/dataset/images/2.1.9.1.1099.jpg', '/kaggle/input/itas-2024/data/dataset/images/3.1.2.1.1.jpg', '/kaggle/input/itas-2024/data/dataset/images/1.1.5.1.1025.jpg', '/kaggle/input/itas-2024/data/dataset/images/3.1.9.1.1119.jpg', '/kaggle/input/itas-2024/data/dataset/images/4.1.5.1.1123.jpg', '/kaggle/input/itas-2024/data/dataset/images/2.2.3.1.134.jpg', '/kaggle/input/itas-2024/data/dataset/images/3.2.7.1.1.jpg', '/kaggle/input/itas-2024/data/dataset/images/1.2.2.1.1039.jpg', '/kaggle/input/itas-2024/data/dataset/images/1.1.1.1.161.jpg', '/kaggle/input/itas-2024/data/dataset/images/2.1.2.1.1155.jpg', '/kaggle/input/itas-2024/data/dataset/images/2.2.1.1.204.jpg', '/kaggle/input/itas-2024/data/dataset/images/1.2.2.1.1124.jpg', '/kaggle/input/itas-2024/data/dataset/images/1.2.9.1.1019.jpg', '/kaggle/input/itas-2024/data/dataset/images/1.2.9.1.1016.jpg', '/kaggle/input/itas-2024/data/dataset/images/4.1.8.1.1037.jpg', '/kaggle/input/itas-2024/data/dataset/images/1.1.1.1.76.jpg', '/kaggle/input/itas-2024/data/dataset/images/1.2.4.1.39.jpg', '/kaggle/input/itas-2024/data/dataset/images/1.2.3.1.195.jpg', '/kaggle/input/itas-2024/data/dataset/images/1.2.2.1.1051.jpg', '/kaggle/input/itas-2024/data/dataset/images/3.2.7.1.7.jpg', '/kaggle/input/itas-2024/data/dataset/images/1.2.5.1.1010.jpg', '/kaggle/input/itas-2024/data/dataset/images/1.1.4.1.44.jpg', '/kaggle/input/itas-2024/data/dataset/images/2.1.2.1.1104.jpg', '/kaggle/input/itas-2024/data/dataset/images/2.1.9.1.1098.jpg', '/kaggle/input/itas-2024/data/dataset/images/4.2.7.1.1122.jpg', '/kaggle/input/itas-2024/data/dataset/images/2.1.8.1.24.jpg', '/kaggle/input/itas-2024/data/dataset/images/1.1.3.1.109.jpg', '/kaggle/input/itas-2024/data/dataset/images/2.1.1.1.163.jpg', '/kaggle/input/itas-2024/data/dataset/images/1.2.2.1.1075.jpg', '/kaggle/input/itas-2024/data/dataset/images/1.2.7.1.1016.jpg', '/kaggle/input/itas-2024/data/dataset/images/1.2.2.1.1073.jpg', '/kaggle/input/itas-2024/data/dataset/images/1.2.7.1.1037.jpg', '/kaggle/input/itas-2024/data/dataset/images/3.2.2.1.179.jpg', '/kaggle/input/itas-2024/data/dataset/images/2.2.4.1.198.jpg', '/kaggle/input/itas-2024/data/dataset/images/1.2.2.1.57.jpg', '/kaggle/input/itas-2024/data/dataset/images/3.2.3.1.199.jpg', '/kaggle/input/itas-2024/data/dataset/images/2.1.8.1.1026.jpg', '/kaggle/input/itas-2024/data/dataset/images/1.2.7.1.1032.jpg', '/kaggle/input/itas-2024/data/dataset/images/1.1.3.1.64.jpg', '/kaggle/input/itas-2024/data/dataset/images/1.1.5.1.1039.jpg', '/kaggle/input/itas-2024/data/dataset/images/1.1.3.1.160.jpg', '/kaggle/input/itas-2024/data/dataset/images/4.2.8.1.1050.jpg', '/kaggle/input/itas-2024/data/dataset/images/2.2.4.1.169.jpg', '/kaggle/input/itas-2024/data/dataset/images/1.1.1.1.116.jpg', '/kaggle/input/itas-2024/data/dataset/images/3.2.1.1.4.jpg', '/kaggle/input/itas-2024/data/dataset/images/2.2.2.1.18.jpg', '/kaggle/input/itas-2024/data/dataset/images/3.2.7.1.138.jpg', '/kaggle/input/itas-2024/data/dataset/images/2.1.1.1.197.jpg', '/kaggle/input/itas-2024/data/dataset/images/1.1.4.1.62.jpg', '/kaggle/input/itas-2024/data/dataset/images/3.1.3.1.123.jpg', '/kaggle/input/itas-2024/data/dataset/images/2.1.4.1.1037.jpg', '/kaggle/input/itas-2024/data/dataset/images/3.2.1.1.5.jpg', '/kaggle/input/itas-2024/data/dataset/images/1.2.4.1.1014.jpg', '/kaggle/input/itas-2024/data/dataset/images/1.2.2.1.1054.jpg']\n"
     ]
    }
   ],
   "source": [
    "create_margin_sampling_dataset(paths_to_images_margin_sampling, 1, 20, 'margin_sampling', '1_train')\n",
    "create_margin_sampling_dataset(paths_to_images_margin_sampling, 10, 20, 'margin_sampling', '10_train')\n",
    "create_margin_sampling_dataset(paths_to_images_margin_sampling, 20, 20, 'margin_sampling', '20_train')"
   ]
  },
  {
   "cell_type": "code",
   "execution_count": null,
   "metadata": {},
   "outputs": [],
   "source": [
    "create_yaml('data/least_confidence/1_train/data.yaml', 'train/images', 'val/images')\n",
    "create_yaml('data/least_confidence/10_train/data.yaml', 'train/images', 'val/images')\n",
    "create_yaml('data/least_confidence/20_train/data.yaml', 'train/images', 'val/images')"
   ]
  },
  {
   "cell_type": "code",
   "execution_count": null,
   "metadata": {},
   "outputs": [],
   "source": [
    "\n",
    "Функция margin_sampling(model, unlabeled_data, num_samples):\n",
    "    # Входные параметры:\n",
    "    # model - обученная модель\n",
    "    # unlabeled_data - список неразмеченных данных\n",
    "    # num_samples - количество образцов, которые нужно выбрать\n",
    "\n",
    "    selected_samples = []  # Список для выбранных образцов\n",
    "\n",
    "    Для каждого image_path в unlabeled_data:\n",
    "        # Загрузить изображение\n",
    "        image = load_image(image_path)\n",
    "\n",
    "        # Получить предсказания модели (например, вероятности классов)\n",
    "        predictions = model.predict(image)\n",
    "\n",
    "        # Получить вероятности классов и отсортировать их\n",
    "        sorted_probabilities = sort(predictions)  # Сортировка вероятностей по убыванию\n",
    "\n",
    "        # Вычислить разницу между двумя наиболее вероятными классами\n",
    "        margin = sorted_probabilities[0] - sorted_probabilities[1]\n",
    "\n",
    "        # Добавить в список выбранных образцов с соответствующим значением margin\n",
    "        selected_samples.append({'image_path': image_path, 'margin': margin})\n",
    "\n",
    "    # Выбрать num_samples образцов с наименьшими значениями margin\n",
    "    selected_samples.sort(key=lambda x: x['margin'])  # Сортировка по margin\n",
    "    selected_samples = selected_samples[:num_samples]  # Выбор первых num_samples\n",
    "\n",
    "    # Вернуть список выбранных образцов\n",
    "    return selected_samples"
   ]
  },
  {
   "cell_type": "code",
   "execution_count": 142,
   "metadata": {},
   "outputs": [
    {
     "name": "stdout",
     "output_type": "stream",
     "text": [
      "\n",
      "image 1/1 c:\\Users\\neutron\\Desktop\\ITaS\\data\\least_confidence\\1_train\\train\\images\\1.1.2.1.1018.jpg: 736x928 1 lungs, 1 trachea, 83.6ms\n",
      "Speed: 1.6ms preprocess, 83.6ms inference, 10.0ms postprocess per image at shape (1, 3, 736, 928)\n",
      "True\n"
     ]
    }
   ],
   "source": [
    "model = YOLO('best.pt')\n",
    "\n",
    "result = model.predict('data/least_confidence/1_train/train/images/1.1.2.1.1018.jpg')\n",
    "print(1. in result[0].boxes.cls and 2. in result[0].boxes.cls)"
   ]
  },
  {
   "cell_type": "code",
   "execution_count": null,
   "metadata": {},
   "outputs": [],
   "source": []
  }
 ],
 "metadata": {
  "kernelspec": {
   "display_name": "venv",
   "language": "python",
   "name": "python3"
  },
  "language_info": {
   "codemirror_mode": {
    "name": "ipython",
    "version": 3
   },
   "file_extension": ".py",
   "mimetype": "text/x-python",
   "name": "python",
   "nbconvert_exporter": "python",
   "pygments_lexer": "ipython3",
   "version": "3.12.5"
  }
 },
 "nbformat": 4,
 "nbformat_minor": 2
}
